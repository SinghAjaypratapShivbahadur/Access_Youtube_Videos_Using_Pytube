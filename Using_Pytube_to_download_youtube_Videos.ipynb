{
  "nbformat": 4,
  "nbformat_minor": 0,
  "metadata": {
    "colab": {
      "name": "Using_Pytube_to_download_youtube_Videos.ipynb",
      "provenance": [],
      "collapsed_sections": []
    },
    "kernelspec": {
      "name": "python3",
      "display_name": "Python 3"
    },
    "language_info": {
      "name": "python"
    }
  },
  "cells": [
    {
      "cell_type": "markdown",
      "source": [
        "#I have used these following commands to access youtube using pytube \n"
      ],
      "metadata": {
        "id": "T4vLFyY21mae"
      }
    },
    {
      "cell_type": "markdown",
      "source": [
        "### use the following githube repo to pip install pytube-11.0.1"
      ],
      "metadata": {
        "id": "1beHLWxL13FN"
      }
    },
    {
      "cell_type": "code",
      "execution_count": null,
      "metadata": {
        "colab": {
          "base_uri": "https://localhost:8080/"
        },
        "id": "ugGj04EQ1jmq",
        "outputId": "567682e4-ce92-4f25-e8f7-3ba0c6b9299f"
      },
      "outputs": [
        {
          "output_type": "stream",
          "name": "stdout",
          "text": [
            "Collecting git+https://github.com/baxterisme/pytube\n",
            "  Cloning https://github.com/baxterisme/pytube to /tmp/pip-req-build-ds_94424\n",
            "  Running command git clone -q https://github.com/baxterisme/pytube /tmp/pip-req-build-ds_94424\n",
            "Building wheels for collected packages: pytube\n",
            "  Building wheel for pytube (setup.py) ... \u001b[?25l\u001b[?25hdone\n",
            "  Created wheel for pytube: filename=pytube-11.0.1-py3-none-any.whl size=56410 sha256=2046078acd590d467defb992f2add8a461d66a9c27b300e7b2cf2b1f05fe85f5\n",
            "  Stored in directory: /tmp/pip-ephem-wheel-cache-wd7ms7qw/wheels/26/8d/ec/15de0781f9973eb4fd3b2d4fe63b8c626d7b4d528e1b03b469\n",
            "Successfully built pytube\n",
            "Installing collected packages: pytube\n",
            "Successfully installed pytube-11.0.1\n"
          ]
        }
      ],
      "source": [
        "!pip install git+https://github.com/baxterisme/pytube"
      ]
    },
    {
      "cell_type": "markdown",
      "source": [
        "###add your video and get the title"
      ],
      "metadata": {
        "id": "464M0OMt2Og6"
      }
    },
    {
      "cell_type": "code",
      "source": [
        "from pytube import YouTube\n",
        "link=\"https://www.youtube.com/watch?v=b8iR1rcDxi4\"\n",
        "yt=YouTube(link)\n",
        "\n",
        "yt.title"
      ],
      "metadata": {
        "colab": {
          "base_uri": "https://localhost:8080/",
          "height": 36
        },
        "id": "n3vQnU6J2DC1",
        "outputId": "9fa649aa-174b-4379-afa3-184d246e71f1"
      },
      "execution_count": null,
      "outputs": [
        {
          "output_type": "execute_result",
          "data": {
            "text/plain": [
              "'Nice Road Bangalore - Tumkur Road to Hosur Road 2018'"
            ],
            "application/vnd.google.colaboratory.intrinsic+json": {
              "type": "string"
            }
          },
          "metadata": {},
          "execution_count": 2
        }
      ]
    },
    {
      "cell_type": "markdown",
      "source": [
        "###use the frirst method to return the first element in the list of video formats available"
      ],
      "metadata": {
        "id": "dtk5xgGF2p9X"
      }
    },
    {
      "cell_type": "code",
      "source": [
        "yt.streams.first()"
      ],
      "metadata": {
        "colab": {
          "base_uri": "https://localhost:8080/"
        },
        "id": "CKsU8-zH2UEx",
        "outputId": "e68fcc01-ea40-4c1c-f6ce-cfcff2e94c7e"
      },
      "execution_count": null,
      "outputs": [
        {
          "output_type": "execute_result",
          "data": {
            "text/plain": [
              "<Stream: itag=\"17\" mime_type=\"video/3gpp\" res=\"144p\" fps=\"10fps\" vcodec=\"mp4v.20.3\" acodec=\"mp4a.40.2\" progressive=\"True\" type=\"video\">"
            ]
          },
          "metadata": {},
          "execution_count": 3
        }
      ]
    },
    {
      "cell_type": "markdown",
      "source": [
        "###Pytube has built-in functionality to filter the streams available in a YouTube object with the .filter() method."
      ],
      "metadata": {
        "id": "8SxRvayY2yD8"
      }
    },
    {
      "cell_type": "markdown",
      "source": [
        ""
      ],
      "metadata": {
        "id": "4-csvwhi2Xql"
      }
    },
    {
      "cell_type": "code",
      "source": [
        "yt.streams.filter(file_extension='mp4')"
      ],
      "metadata": {
        "colab": {
          "base_uri": "https://localhost:8080/"
        },
        "id": "gpaCdyoZ2_qk",
        "outputId": "6d3ba6c3-9846-4788-9f6d-2df3a16dbe84"
      },
      "execution_count": null,
      "outputs": [
        {
          "output_type": "execute_result",
          "data": {
            "text/plain": [
              "[<Stream: itag=\"18\" mime_type=\"video/mp4\" res=\"360p\" fps=\"30fps\" vcodec=\"avc1.42001E\" acodec=\"mp4a.40.2\" progressive=\"True\" type=\"video\">, <Stream: itag=\"22\" mime_type=\"video/mp4\" res=\"720p\" fps=\"30fps\" vcodec=\"avc1.64001F\" acodec=\"mp4a.40.2\" progressive=\"True\" type=\"video\">, <Stream: itag=\"137\" mime_type=\"video/mp4\" res=\"1080p\" fps=\"30fps\" vcodec=\"avc1.64001e\" progressive=\"False\" type=\"video\">, <Stream: itag=\"136\" mime_type=\"video/mp4\" res=\"720p\" fps=\"30fps\" vcodec=\"avc1.4d4016\" progressive=\"False\" type=\"video\">, <Stream: itag=\"135\" mime_type=\"video/mp4\" res=\"480p\" fps=\"30fps\" vcodec=\"avc1.4d4014\" progressive=\"False\" type=\"video\">, <Stream: itag=\"134\" mime_type=\"video/mp4\" res=\"360p\" fps=\"30fps\" vcodec=\"avc1.4d401e\" progressive=\"False\" type=\"video\">, <Stream: itag=\"133\" mime_type=\"video/mp4\" res=\"240p\" fps=\"30fps\" vcodec=\"avc1.4d400c\" progressive=\"False\" type=\"video\">, <Stream: itag=\"160\" mime_type=\"video/mp4\" res=\"144p\" fps=\"30fps\" vcodec=\"avc1.4d400b\" progressive=\"False\" type=\"video\">, <Stream: itag=\"139\" mime_type=\"audio/mp4\" abr=\"48kbps\" acodec=\"mp4a.40.5\" progressive=\"False\" type=\"audio\">, <Stream: itag=\"140\" mime_type=\"audio/mp4\" abr=\"128kbps\" acodec=\"mp4a.40.2\" progressive=\"False\" type=\"audio\">]"
            ]
          },
          "metadata": {},
          "execution_count": 4
        }
      ]
    },
    {
      "cell_type": "markdown",
      "source": [
        "### use this block of code to specify the quality of the video for example the highest resolution video size\n",
        "### and show all available formats"
      ],
      "metadata": {
        "id": "PS5f3_zv3DRB"
      }
    },
    {
      "cell_type": "code",
      "source": [
        "list =yt.streams.get_highest_resolution().filesize\n",
        "\n",
        "print(list/ 1048576)"
      ],
      "metadata": {
        "colab": {
          "base_uri": "https://localhost:8080/"
        },
        "id": "xefkMzef3BgZ",
        "outputId": "c49f2a29-b38e-4c71-b31c-4a261dab6caa"
      },
      "execution_count": null,
      "outputs": [
        {
          "output_type": "stream",
          "name": "stdout",
          "text": [
            "432.7104244232178\n"
          ]
        }
      ]
    },
    {
      "cell_type": "markdown",
      "source": [
        "###download video using pytube highest resolution"
      ],
      "metadata": {
        "id": "gVSU5fy93zsw"
      }
    },
    {
      "cell_type": "code",
      "source": [
        "yt.streams.get_highest_resolution().download()"
      ],
      "metadata": {
        "colab": {
          "base_uri": "https://localhost:8080/",
          "height": 36
        },
        "id": "z9S6Bgwr3F3c",
        "outputId": "c3112317-b5d8-4c6d-e2a3-be536e26bbee"
      },
      "execution_count": null,
      "outputs": [
        {
          "output_type": "execute_result",
          "data": {
            "text/plain": [
              "'/content/Nice Road Bangalore - Tumkur Road to Hosur Road 2018.mp4'"
            ],
            "application/vnd.google.colaboratory.intrinsic+json": {
              "type": "string"
            }
          },
          "metadata": {},
          "execution_count": 9
        }
      ]
    },
    {
      "cell_type": "markdown",
      "source": [
        "### now we need to move the above video into a directory.\n",
        "### first we create a directory named say videos\n",
        "### then using the output of the above command we move the video from sample to videos directory\n",
        "###provide accurate paths!"
      ],
      "metadata": {
        "id": "1WAxTt7h4IMZ"
      }
    },
    {
      "cell_type": "code",
      "source": [
        "!mkdir videos"
      ],
      "metadata": {
        "id": "801AG4PI3xAt"
      },
      "execution_count": null,
      "outputs": []
    },
    {
      "cell_type": "code",
      "source": [
        "!mv /content/Nice Road Bangalore - Tumkur Road to Hosur Road 2018.mp4 /content/videos"
      ],
      "metadata": {
        "colab": {
          "base_uri": "https://localhost:8080/"
        },
        "id": "1hPherx94pZh",
        "outputId": "a2b8d506-c2cc-4caf-da58-eb9451e8e073"
      },
      "execution_count": null,
      "outputs": [
        {
          "output_type": "stream",
          "name": "stdout",
          "text": [
            "mv: cannot stat '/content/Nice': No such file or directory\n",
            "mv: cannot stat 'Road': No such file or directory\n",
            "mv: cannot stat 'Bangalore': No such file or directory\n",
            "mv: cannot stat '-': No such file or directory\n",
            "mv: cannot stat 'Tumkur': No such file or directory\n",
            "mv: cannot stat 'Road': No such file or directory\n",
            "mv: cannot stat 'to': No such file or directory\n",
            "mv: cannot stat 'Hosur': No such file or directory\n",
            "mv: cannot stat 'Road': No such file or directory\n",
            "mv: cannot stat '2018.mp4': No such file or directory\n"
          ]
        }
      ]
    },
    {
      "cell_type": "markdown",
      "source": [
        "###to overcome these stat issues make sure to to make these changes by adding \\ slashes after every word in 'Nice Road Bangalore - Tumkur Road to Hosur Road 2018.mp'"
      ],
      "metadata": {
        "id": "kSmaZ03P5ArC"
      }
    },
    {
      "cell_type": "code",
      "source": [
        "!mv /content/Nice\\ Road\\ Bangalore\\ -\\ Tumkur\\ Road\\ to\\ Hosur\\ Road\\ 2018.mp4 /content/videos"
      ],
      "metadata": {
        "id": "rur7ZUtr48Sm"
      },
      "execution_count": null,
      "outputs": []
    },
    {
      "cell_type": "markdown",
      "source": [
        "###use the below command to download video with a specific resolution"
      ],
      "metadata": {
        "id": "rhuwlDa46DgO"
      }
    },
    {
      "cell_type": "code",
      "source": [
        "download = yt.streams.filter(res=\"1080p\") #download specific resolution\n",
        "download #not necessary"
      ],
      "metadata": {
        "colab": {
          "base_uri": "https://localhost:8080/"
        },
        "id": "no_ER9dE5wYl",
        "outputId": "02a37c50-775b-4bdd-e933-7709ad04ea92"
      },
      "execution_count": null,
      "outputs": [
        {
          "output_type": "execute_result",
          "data": {
            "text/plain": [
              "[<Stream: itag=\"137\" mime_type=\"video/mp4\" res=\"1080p\" fps=\"30fps\" vcodec=\"avc1.64001e\" progressive=\"False\" type=\"video\">]"
            ]
          },
          "metadata": {},
          "execution_count": 15
        }
      ]
    },
    {
      "cell_type": "markdown",
      "source": [
        "###mount the video on google drive"
      ],
      "metadata": {
        "id": "rcm3PRSL6SKA"
      }
    },
    {
      "cell_type": "code",
      "source": [
        "from google.colab import drive\n",
        "drive.mount('/content/drive')"
      ],
      "metadata": {
        "id": "0VXpVxDk6Vh1"
      },
      "execution_count": null,
      "outputs": []
    }
  ]
}